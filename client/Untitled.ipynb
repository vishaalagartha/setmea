{
 "cells": [
  {
   "cell_type": "code",
   "execution_count": 4,
   "id": "6b080b1e",
   "metadata": {},
   "outputs": [],
   "source": [
    "s = \"\"\"\n",
    "  --silver: #B8C4CA;\n",
    "  --white: #FFFFFF;\n",
    "  --bg-sky-50:\t rgb(240 249 255);\n",
    "  --bg-sky-100:\t rgb(224 242 254);\n",
    "  --bg-sky-200:\t rgb(186 230 253);\n",
    "  --bg-sky-300:\t rgb(125 211 252);\n",
    "  --bg-sky-400:\t rgb(56 189 248);\n",
    "  --bg-sky-500:\t rgb(14 165 233);\n",
    "  --bg-sky-600:\t rgb(2 132 199);\n",
    "  --bg-sky-700:\t rgb(3 105 161);\n",
    "  --bg-sky-800:\t rgb(7 89 133);\n",
    "  --bg-sky-900:\t rgb(12 74 110);\n",
    "  --bg-sky-950:\t rgb(8 47 73);\n",
    "  --bg-slate-200: rgb(226 232 240);\n",
    "  --bg-slate-300: rgb(203 213 225);\n",
    "  --bg-slate-400: rgb(148 163 184);\n",
    "  --bg-slate-500: rgb(100 116 139);\n",
    "  --bg-slate-600: rgb(71 85 105);\n",
    "\"\"\""
   ]
  },
  {
   "cell_type": "code",
   "execution_count": 15,
   "id": "76959f22",
   "metadata": {},
   "outputs": [
    {
     "name": "stdout",
     "output_type": "stream",
     "text": [
      "silver: '#B8C4CA',\n",
      "white: '#FFFFFF',\n",
      "bg_sky_50: 'rgb(240 249 255)',\n",
      "bg_sky_100: 'rgb(224 242 254)',\n",
      "bg_sky_200: 'rgb(186 230 253)',\n",
      "bg_sky_300: 'rgb(125 211 252)',\n",
      "bg_sky_400: 'rgb(56 189 248)',\n",
      "bg_sky_500: 'rgb(14 165 233)',\n",
      "bg_sky_600: 'rgb(2 132 199)',\n",
      "bg_sky_700: 'rgb(3 105 161)',\n",
      "bg_sky_800: 'rgb(7 89 133)',\n",
      "bg_sky_900: 'rgb(12 74 110)',\n",
      "bg_sky_950: 'rgb(8 47 73)',\n",
      "bg_slate_200: 'rgb(226 232 240)',\n",
      "bg_slate_300: 'rgb(203 213 225)',\n",
      "bg_slate_400: 'rgb(148 163 184)',\n",
      "bg_slate_500: 'rgb(100 116 139)',\n",
      "bg_slate_600: 'rgb(71 85 105)',\n"
     ]
    }
   ],
   "source": [
    "for l in s.split('\\n'):\n",
    "    try:\n",
    "        x = l[4:].split(':')\n",
    "        name = x[0]\n",
    "        v = x[1].strip()[:-1]\n",
    "        name = name.replace('-', '_')\n",
    "        \n",
    "        print(f\"{name}: '{v}',\")\n",
    "    except:\n",
    "        pass\n",
    "    \n"
   ]
  },
  {
   "cell_type": "code",
   "execution_count": null,
   "id": "eb3ac093",
   "metadata": {},
   "outputs": [],
   "source": []
  }
 ],
 "metadata": {
  "kernelspec": {
   "display_name": "Python 3 (ipykernel)",
   "language": "python",
   "name": "python3"
  },
  "language_info": {
   "codemirror_mode": {
    "name": "ipython",
    "version": 3
   },
   "file_extension": ".py",
   "mimetype": "text/x-python",
   "name": "python",
   "nbconvert_exporter": "python",
   "pygments_lexer": "ipython3",
   "version": "3.8.18"
  }
 },
 "nbformat": 4,
 "nbformat_minor": 5
}
